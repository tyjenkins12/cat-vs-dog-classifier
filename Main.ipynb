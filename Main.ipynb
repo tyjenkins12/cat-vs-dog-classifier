{
 "cells": [
  {
   "cell_type": "markdown",
   "id": "24b5fd36",
   "metadata": {},
   "source": [
    "# Cat vs Dog Image Classification"
   ]
  },
  {
   "cell_type": "markdown",
   "id": "5adb39c2",
   "metadata": {},
   "source": [
    "## Importing all necessary libraries and defining constants that will apply to our images."
   ]
  },
  {
   "cell_type": "code",
   "execution_count": null,
   "id": "25af7a79",
   "metadata": {},
   "outputs": [],
   "source": "import numpy as np\nimport pandas as pd\nfrom tensorflow.keras.preprocessing.image import ImageDataGenerator, load_img\nfrom tensorflow.keras.utils import to_categorical\nfrom sklearn.model_selection import train_test_split\nimport matplotlib.pyplot as plt\nimport random\nimport os\n\nimg_width = 128\nimg_height = 128\nimg_size = (128, 128)\nimg_channels = 3"
  },
  {
   "cell_type": "markdown",
   "id": "a99bf4cc",
   "metadata": {},
   "source": [
    "## Next, we will prepare the training data"
   ]
  },
  {
   "cell_type": "code",
   "execution_count": null,
   "id": "f9742c2a",
   "metadata": {},
   "outputs": [],
   "source": [
    "Directory = os.listdir(\"./train/train\")\n",
    "\n",
    "labels = []\n",
    "for name in Directory:\n",
    "    label = name.split('.')[0]\n",
    "    if label == 'dog':\n",
    "        labels.append(1)\n",
    "    else:\n",
    "        labels.append(0)\n",
    "\n",
    "df = pd.DataFrame({\n",
    "    'filename':Directory,\n",
    "    'label':labels\n",
    "})"
   ]
  },
  {
   "cell_type": "markdown",
   "id": "f08754b1",
   "metadata": {},
   "source": [
    "Visualizing the data frame:"
   ]
  },
  {
   "cell_type": "code",
   "execution_count": null,
   "id": "6d253185",
   "metadata": {},
   "outputs": [],
   "source": [
    "df.head()"
   ]
  }
 ],
 "metadata": {
  "kernelspec": {
   "display_name": ".venv",
   "language": "python",
   "name": "python3"
  },
  "language_info": {
   "codemirror_mode": {
    "name": "ipython",
    "version": 3
   },
   "file_extension": ".py",
   "mimetype": "text/x-python",
   "name": "python",
   "nbconvert_exporter": "python",
   "pygments_lexer": "ipython3",
   "version": "3.13.5"
  }
 },
 "nbformat": 4,
 "nbformat_minor": 5
}